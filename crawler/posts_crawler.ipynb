{
 "cells": [
  {
   "cell_type": "markdown",
   "metadata": {},
   "source": [
    "# TIA Posts Crawler"
   ]
  },
  {
   "cell_type": "code",
   "execution_count": 23,
   "metadata": {},
   "outputs": [],
   "source": [
    "import requests\n",
    "import json\n",
    "import os"
   ]
  },
  {
   "cell_type": "code",
   "execution_count": 33,
   "metadata": {},
   "outputs": [],
   "source": [
    "url = 'https://www.techinasia.com/wp-json/techinasia/2.0/posts'\n",
    "start_page = 1 # NOTE: maximum page only accept 30\n",
    "end_page = 30 # NOTE: maximum page only accept 30\n",
    "per_page = 30 # NOTE: maximum per_page only accept 30\n",
    "\n",
    "for page in range(start_page, end_page):\n",
    "    r = requests.get(url, params={'page': page, 'per_page': per_page}, headers={'User-Agent': 'Tia-ETL'})\n",
    "    posts = r.json()['posts']\n",
    "\n",
    "    for post in posts:\n",
    "\n",
    "        year_group = post['date_gmt'][0:4]\n",
    "        if not os.path.isdir(f'data/posts/{year_group}'):\n",
    "            os.mkdir(f'data/posts/{year_group}')\n",
    "\n",
    "        month_group = post['date_gmt'][0:7]\n",
    "        if not os.path.isdir(f'data/posts/{year_group}/{month_group}'):\n",
    "            os.mkdir(f'data/posts/{year_group}/{month_group}')\n",
    "\n",
    "        post_id = post['id']\n",
    "        with open(f'data/posts/{year_group}/{month_group}/{post_id}.json', 'w') as f:\n",
    "            f.write(json.dumps(post))"
   ]
  }
 ],
 "metadata": {
  "kernelspec": {
   "display_name": "Python 3.9.7 ('base')",
   "language": "python",
   "name": "python3"
  },
  "language_info": {
   "codemirror_mode": {
    "name": "ipython",
    "version": 3
   },
   "file_extension": ".py",
   "mimetype": "text/x-python",
   "name": "python",
   "nbconvert_exporter": "python",
   "pygments_lexer": "ipython3",
   "version": "3.9.7"
  },
  "orig_nbformat": 4,
  "vscode": {
   "interpreter": {
    "hash": "ad2bdc8ecc057115af97d19610ffacc2b4e99fae6737bb82f5d7fb13d2f2c186"
   }
  }
 },
 "nbformat": 4,
 "nbformat_minor": 2
}
