{
 "cells": [
  {
   "cell_type": "markdown",
   "metadata": {},
   "source": [
    "# TIA Post Comments Crawler"
   ]
  },
  {
   "cell_type": "code",
   "execution_count": 1,
   "metadata": {},
   "outputs": [],
   "source": [
    "import requests\n",
    "import json\n",
    "import os"
   ]
  },
  {
   "cell_type": "code",
   "execution_count": 8,
   "metadata": {},
   "outputs": [
    {
     "name": "stdout",
     "output_type": "stream",
     "text": [
      "['692279.json', '719633.json', '734437.json', '734984.json', '737756.json', '739084.json', '739821.json', '745964.json', '745976.json', '745977.json', '746187.json', '746686.json', '746732.json', '747140.json', '747228.json', '747261.json', '747267.json', '747332.json', '747335.json', '747357.json', '747381.json', '747389.json', '747391.json', '747403.json', '747415.json', '747424.json', '747433.json', '747445.json', '747469.json', '747480.json', '747486.json', '747508.json', '747509.json', '747512.json', '747531.json', '747568.json', '747594.json', '747620.json', '747621.json', '747626.json', '747639.json', '747657.json', '747674.json', '747688.json', '747692.json', '747702.json', '747716.json', '747724.json', '747739.json', '747761.json', '747762.json', '747782.json', '747807.json', '747827.json', '747906.json', '747910.json', '747923.json', '747938.json', '747941.json', '747943.json', '747949.json', '747968.json', '747973.json', '747996.json', '748016.json', '748025.json', '748041.json', '748042.json', '748045.json', '748056.json', '748066.json', '748077.json', '748080.json', '748090.json', '748105.json', '748119.json', '748126.json', '748166.json', '748167.json', '748179.json', '748203.json', '748222.json', '748230.json', '748271.json', '748280.json', '748281.json', '748283.json', '748308.json', '748332.json', '748340.json', '748354.json', '748368.json', '748396.json', '748398.json', '748414.json', '748417.json', '748438.json', '748455.json', '748460.json', '748471.json', '748484.json', '748498.json', '748531.json', '748533.json', '748536.json', '748540.json', '748561.json', '748562.json', '748573.json', '748577.json', '748589.json', '748604.json', '748639.json', '748645.json', '748667.json', '748704.json', '748717.json', '748722.json', '748731.json', '748749.json', '748760.json', '748817.json', '748835.json', '748844.json', '748860.json', '748877.json', '748882.json', '748899.json', '748918.json', '748925.json', '748942.json', '748959.json', '748985.json', '748995.json', '749013.json', '749020.json', '749038.json', '749057.json', '749064.json', '749079.json', '749105.json', '749109.json', '749152.json', '749158.json', '749167.json', '749180.json', '749189.json', '749192.json', '749216.json', '749240.json', '749242.json', '749280.json', '749284.json', '749289.json', '749297.json', '749306.json', '749326.json', '749327.json', '749331.json', '749357.json', '749398.json', '749450.json', '749451.json', '749456.json', '749460.json', '749480.json', '749481.json', '749488.json', '749512.json', '749514.json', '749518.json', '749528.json', '749529.json', '749532.json', '749550.json', '749568.json', '749600.json', '749601.json', '749627.json', '749677.json', '749730.json', '749747.json', '749751.json', '749755.json', '749780.json', '749798.json', '749809.json', '749812.json', '749832.json', '749836.json', '749912.json', '749924.json', '749927.json', '749944.json', '749948.json', '749968.json', '749980.json', '749986.json', '749988.json', '750001.json', '750016.json', '750020.json', '750045.json', '750054.json', '750057.json', '750072.json', '750081.json', '750085.json', '750086.json', '750099.json', '750112.json', '750130.json', '750132.json', '750141.json', '750171.json', '750179.json', '750206.json', '750234.json', '750238.json', '750241.json', '750277.json', '750302.json', '750341.json', '750342.json', '750365.json', '750367.json', '750371.json', '750400.json', '750402.json', '750441.json', '750442.json', '750446.json', '750471.json', '750478.json', '750493.json', '750495.json', '750619.json']\n",
      "['301037.json', '527324.json', '607177.json', '611391.json', '611392.json', '611393.json', '611394.json', '612934.json', '688805.json', '688809.json', '688813.json', '692610.json', '692613.json', '692616.json', '706781.json', '706783.json', '706785.json', '706787.json', '706789.json', '706791.json', '706793.json', '706795.json', '712959.json', '717588.json', '735651.json', '744720.json', '746008.json', '748137.json', '748138.json', '748139.json', '748140.json', '748141.json', '748142.json', '748143.json', '749049.json', '750331.json', '750376.json', '750398.json', '750439.json', '750461.json', '750534.json', '750555.json', '750599.json', '750629.json', '750686.json', '750688.json', '750706.json', '750719.json', '750720.json', '750729.json', '750734.json', '750761.json', '750776.json', '750794.json', '750819.json', '750820.json', '750842.json', '750855.json', '750865.json', '750870.json', '750887.json', '750900.json', '750913.json', '750926.json', '750951.json', '750967.json', '750979.json', '750985.json', '750992.json', '751028.json', '751040.json', '751054.json', '751064.json', '751069.json', '751089.json', '751101.json', '751128.json', '751147.json', '751167.json', '751181.json', '751185.json', '751203.json', '751221.json', '751247.json', '751260.json', '751273.json', '751295.json', '751318.json', '751320.json', '751336.json', '751343.json', '751351.json', '751355.json', '751375.json', '751393.json', '751415.json', '751428.json', '751436.json', '751450.json', '751455.json', '751456.json', '751477.json', '751481.json', '751496.json', '751499.json', '751500.json', '751559.json', '751570.json', '751591.json', '751596.json', '751615.json', '751620.json', '751643.json', '751646.json', '751654.json', '751715.json', '751729.json', '751732.json', '751735.json', '751748.json', '751749.json', '751753.json', '751804.json', '751813.json', '751818.json', '751828.json', '751836.json', '751841.json', '751885.json', '751889.json', '751890.json', '751919.json', '751921.json', '751948.json', '751987.json', '751988.json', '752009.json', '752034.json', '752052.json', '752062.json', '752083.json', '752084.json', '752086.json', '752105.json', '752138.json', '752157.json', '752160.json', '752167.json', '752174.json', '752217.json', '752250.json', '752270.json', '752275.json', '752285.json', '752308.json', '752314.json', '752325.json', '752343.json', '752360.json', '752364.json', '752374.json', '752392.json', '752393.json', '752400.json', '752405.json', '752434.json', '752443.json', '752457.json', '752461.json', '752474.json', '752493.json', '752545.json', '752548.json', '752550.json', '752569.json', '752583.json', '752598.json', '752613.json', '752620.json', '752634.json', '752636.json', '752655.json', '752672.json', '752673.json', '752674.json', '752690.json', '752696.json', '752710.json', '752727.json', '752751.json', '752764.json', '752773.json', '752799.json', '752813.json', '752847.json', '752855.json', '752861.json', '752862.json', '752884.json', '752893.json', '752911.json', '752916.json', '752927.json', '752929.json', '752966.json', '752979.json', '753003.json', '753014.json', '753051.json', '753058.json', '753104.json', '753113.json', '753121.json', '753129.json', '753160.json', '753161.json', '753178.json', '753202.json', '753203.json', '753218.json', '753222.json', '753235.json', '753265.json', '753293.json', '753298.json', '753304.json', '753314.json', '753319.json', '753353.json', '753356.json', '753366.json', '753387.json', '753410.json', '753411.json', '753412.json', '753426.json', '753464.json', '753476.json', '753485.json', '753495.json', '753498.json', '753525.json', '753538.json', '753542.json', '753548.json', '753595.json', '753598.json', '753642.json', '753653.json', '753743.json', '753752.json', '753766.json', '753774.json', '753775.json', '753786.json', '753808.json', '753810.json', '753835.json', '753847.json', '753865.json', '753881.json', '753886.json', '753903.json', '753917.json', '753959.json', '753975.json', '754000.json', '754011.json', '754047.json', '754048.json', '754086.json', '754089.json', '754111.json', '754113.json', '754142.json', '754144.json', '754197.json', '754199.json', '754209.json', '754217.json', '754234.json', '754258.json', '754272.json', '754277.json', '754288.json', '754309.json', '754321.json', '754326.json', '754354.json', '754356.json', '754361.json', '754364.json', '754373.json', '754381.json', '754382.json', '754401.json', '754421.json', '754464.json', '754492.json', '754506.json', '754515.json', '754521.json', '754538.json', '754543.json', '754565.json', '754573.json', '754582.json', '754584.json', '754600.json', '754602.json', '754640.json', '754659.json', '754685.json', '754687.json', '754698.json', '754703.json', '754758.json', '754766.json', '754804.json', '754807.json', '754809.json', '754818.json', '754840.json', '754847.json', '754869.json', '754883.json', '754890.json', '754895.json', '754908.json', '754917.json', '754918.json', '754951.json', '754963.json', '755005.json', '755009.json', '755025.json', '755026.json', '755038.json', '755040.json', '755082.json', '755107.json', '755111.json', '755162.json', '755173.json', '755180.json', '755190.json', '755194.json', '755212.json', '755216.json', '755220.json', '755247.json', '755258.json', '755285.json', '755290.json', '755299.json', '755307.json', '755338.json', '755354.json', '755372.json', '755376.json', '755388.json', '755401.json', '755415.json', '755447.json', '755448.json', '755463.json', '755469.json', '755487.json', '755491.json', '755507.json', '755532.json', '755550.json', '755567.json', '755574.json', '755579.json', '755584.json', '755586.json', '755597.json', '755599.json', '755617.json', '755640.json', '755648.json', '755662.json', '755680.json', '755682.json', '755689.json', '755695.json', '755698.json', '755701.json', '755750.json', '755784.json', '755823.json', '755834.json', '755835.json', '755841.json', '755845.json', '755867.json', '755871.json', '755873.json', '755876.json', '755922.json', '755934.json', '755946.json', '755961.json', '755964.json', '755984.json', '755987.json', '755992.json', '756036.json', '756054.json', '756090.json', '756097.json', '756118.json', '756125.json', '756142.json', '756144.json', '756163.json', '756167.json', '756170.json', '756173.json', '756195.json', '756209.json', '756210.json', '756238.json', '756252.json', '756258.json', '756308.json', '756324.json', '756325.json', '756374.json', '756382.json', '756394.json', '756416.json', '756429.json', '756437.json', '756454.json', '756476.json', '756490.json', '756555.json', '756557.json', '756559.json']\n",
      "['485312.json', '487420.json', '487442.json', '504436.json', '504440.json', '504459.json', '527331.json', '616143.json', '638604.json', '639149.json', '639152.json', '644404.json', '644409.json', '651243.json', '674324.json', '675051.json', '675053.json', '675055.json', '675058.json', '681112.json', '681468.json', '688798.json', '688801.json', '694688.json', '723775.json', '735658.json', '748136.json', '748288.json', '750606.json', '753217.json', '756331.json', '756347.json', '756498.json', '756544.json', '756613.json', '756637.json', '756644.json', '756645.json', '756665.json', '756666.json', '756676.json', '756708.json', '756715.json', '756719.json', '756721.json', '756732.json', '756754.json', '756775.json', '756776.json', '756785.json', '756812.json', '756834.json', '756835.json', '756837.json', '756846.json', '756854.json', '756870.json', '756890.json', '756897.json', '756911.json', '756914.json', '756920.json', '756943.json', '756949.json', '756960.json', '756972.json', '756992.json', '757001.json', '757014.json', '757027.json', '757037.json', '757055.json', '757073.json', '757089.json', '757100.json', '757169.json', '757175.json', '757178.json', '757185.json', '757215.json', '757232.json', '757233.json', '757257.json', '757259.json', '757262.json', '757272.json', '757279.json', '757286.json', '757319.json', '757337.json', '757378.json', '757384.json', '757389.json', '757395.json', '757397.json', '757398.json', '757405.json', '757435.json', '757446.json', '757455.json', '757460.json', '757461.json', '757462.json', '757472.json', '757476.json', '757511.json', '757553.json', '757624.json', '757628.json', '757650.json', '757674.json', '757678.json', '757689.json', '757707.json', '757708.json', '757726.json', '757727.json', '757734.json', '757741.json', '757742.json', '757753.json', '757755.json', '757761.json', '757780.json', '757819.json', '757828.json', '757878.json', '757880.json', '757883.json', '757913.json', '757921.json', '757928.json', '757934.json', '757967.json', '757968.json', '757988.json', '758004.json', '758008.json', '758017.json', '758050.json', '758060.json', '758067.json', '758086.json', '758100.json', '758106.json', '758108.json', '758124.json', '758147.json', '758149.json', '758156.json', '758174.json', '758184.json', '758200.json', '758207.json', '758226.json', '758233.json', '758254.json', '758283.json', '758286.json', '758301.json', '758303.json', '758306.json', '758313.json', '758335.json', '758342.json', '758362.json', '758374.json', '758375.json', '758391.json', '758399.json', '758419.json', '758425.json', '758433.json', '758466.json', '758472.json', '758480.json', '758489.json', '758524.json', '758526.json', '758535.json', '758539.json', '758548.json', '758583.json', '758591.json', '758612.json', '758619.json', '758620.json', '758639.json', '758659.json', '758675.json', '758677.json', '758682.json', '758690.json', '758707.json', '758724.json', '758742.json', '758753.json', '758803.json', '758822.json', '758825.json', '758844.json', '758846.json', '758874.json', '758896.json', '758899.json', '758901.json', '758907.json', '758918.json', '758939.json', '758943.json', '758974.json', '758978.json', '759016.json', '759039.json', '759044.json', '759046.json', '759056.json', '759065.json', '759088.json', '759111.json', '759170.json', '759177.json']\n"
     ]
    }
   ],
   "source": [
    "# filtering value\n",
    "\n",
    "years = os.listdir('data/posts')\n",
    "for year in sorted(years):\n",
    "    year_months = os.listdir(f'data/posts/{year}')\n",
    "    for year_month in sorted(year_months):\n",
    "        post_files = os.listdir(f'data/posts/{year}/{year_month}')\n",
    "        print(post_files)"
   ]
  }
 ],
 "metadata": {
  "kernelspec": {
   "display_name": "Python 3.9.9 64-bit",
   "language": "python",
   "name": "python3"
  },
  "language_info": {
   "codemirror_mode": {
    "name": "ipython",
    "version": 3
   },
   "file_extension": ".py",
   "mimetype": "text/x-python",
   "name": "python",
   "nbconvert_exporter": "python",
   "pygments_lexer": "ipython3",
   "version": "3.9.9"
  },
  "orig_nbformat": 4,
  "vscode": {
   "interpreter": {
    "hash": "237bf423bc466234ff6a34d5cd6f4d5c3ef1b31bfd9ea80cc180c02cfc205498"
   }
  }
 },
 "nbformat": 4,
 "nbformat_minor": 2
}
