{
 "cells": [
  {
   "cell_type": "markdown",
   "metadata": {},
   "source": [
    "# TIA Posts Ingestor"
   ]
  },
  {
   "cell_type": "code",
   "execution_count": 52,
   "metadata": {},
   "outputs": [],
   "source": [
    "from pymongo import MongoClient\n",
    "import requests\n",
    "import json\n",
    "import os\n",
    "import time"
   ]
  },
  {
   "cell_type": "code",
   "execution_count": 53,
   "metadata": {},
   "outputs": [],
   "source": [
    "\n",
    "\n",
    "# create client for mongo\n",
    "client = MongoClient('localhost',\n",
    "                     username='root',\n",
    "                     password='example')\n",
    "\n",
    "# get db from client\n",
    "db = client.tia\n",
    "\n",
    "# get collection from db\n",
    "posts_collection = db.posts"
   ]
  },
  {
   "cell_type": "code",
   "execution_count": 54,
   "metadata": {},
   "outputs": [],
   "source": [
    "url = 'https://www.techinasia.com/wp-json/techinasia/2.0/posts'\n",
    "start_page = 1 # NOTE: maximum page only accept 30\n",
    "end_page = 30 # NOTE: maximum page only accept 30\n",
    "per_page = 30 # NOTE: maximum per_page only accept 30\n",
    "\n",
    "for page in range(start_page, end_page):\n",
    "    # get the posts data\n",
    "    r = requests.get(url, params={'page': page, 'per_page': per_page}, headers={'User-Agent': 'Tia-ETL'})\n",
    "    posts = r.json()['posts']\n",
    "\n",
    "    # add new '_id' key to the posts data\n",
    "    posts = [{'_id': post['id']} | post for post in posts]\n",
    "\n",
    "    # NOTE: still can't find how to handle duplicate key (id) when performing bulk insert (insert_many)\n",
    "\n",
    "    for post in posts:\n",
    "        # insert per post\n",
    "        posts_collection.replace_one({'_id': post['_id']}, post, upsert=True)\n",
    "    time.sleep(5)"
   ]
  }
 ],
 "metadata": {
  "kernelspec": {
   "display_name": "Python 3.9.7 ('base')",
   "language": "python",
   "name": "python3"
  },
  "language_info": {
   "codemirror_mode": {
    "name": "ipython",
    "version": 3
   },
   "file_extension": ".py",
   "mimetype": "text/x-python",
   "name": "python",
   "nbconvert_exporter": "python",
   "pygments_lexer": "ipython3",
   "version": "3.9.7"
  },
  "orig_nbformat": 4,
  "vscode": {
   "interpreter": {
    "hash": "ad2bdc8ecc057115af97d19610ffacc2b4e99fae6737bb82f5d7fb13d2f2c186"
   }
  }
 },
 "nbformat": 4,
 "nbformat_minor": 2
}
