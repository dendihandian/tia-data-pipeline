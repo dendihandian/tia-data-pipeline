{
 "cells": [
  {
   "cell_type": "markdown",
   "metadata": {},
   "source": [
    "# TIA Comments Ingestor"
   ]
  },
  {
   "cell_type": "code",
   "execution_count": 48,
   "metadata": {},
   "outputs": [],
   "source": [
    "from pymongo import MongoClient, ASCENDING as asc\n",
    "import requests\n",
    "import json\n",
    "import os\n",
    "import time"
   ]
  },
  {
   "cell_type": "markdown",
   "metadata": {},
   "source": [
    "## Setup Clients"
   ]
  },
  {
   "cell_type": "code",
   "execution_count": 52,
   "metadata": {},
   "outputs": [],
   "source": [
    "# create client for mongo\n",
    "client = MongoClient('localhost',\n",
    "                     username='root',\n",
    "                     password='example')\n",
    "\n",
    "# get db from client\n",
    "db = client.tia\n",
    "\n",
    "# get collection from db\n",
    "posts_collection = db.posts\n",
    "comments_collection = db.comments"
   ]
  },
  {
   "cell_type": "markdown",
   "metadata": {},
   "source": [
    "## Ingestion"
   ]
  },
  {
   "cell_type": "code",
   "execution_count": 74,
   "metadata": {},
   "outputs": [],
   "source": [
    "# get post ids from mongodb\n",
    "posts = posts_collection.find({'comments_count': {\"$gte\": 1}}, {'_id': 1, 'comments_count': 1}, limit=25).sort([('date_gmt', asc)])\n",
    "\n",
    "for post in posts:\n",
    "    # parameter for the request\n",
    "    url = f\"https://www.techinasia.com/wp-json/techinasia/2.0/posts/{post['_id']}/comments\"\n",
    "    start_page = 1 # NOTE: maximum page only accept 30\n",
    "    end_page = 3 # NOTE: maximum page only accept 30\n",
    "    per_page = 30 # NOTE: maximum per_page only accept 30\n",
    "\n",
    "    comments_count = 0\n",
    "    next_page = True\n",
    "\n",
    "    for page in range(start_page, end_page+1):\n",
    "        jsonr = requests.get(url, params={'page': start_page, 'per_page': per_page}, headers={'User-Agent': 'Tia-ETL'}).json()\n",
    "\n",
    "        if len(jsonr['comments']) > 1:\n",
    "            comments = [{'_id': comment['id']} | comment for comment in jsonr['comments']]\n",
    "            # print(len(comments))\n",
    "            for comment in comments:\n",
    "                # print('inserting to comments collection')\n",
    "                comments_collection.replace_one({'_id': comment['_id']}, comment, upsert=True)\n",
    "\n",
    "            comments_count = comments_count + len(comments)\n",
    "\n",
    "        if (jsonr['total_pages'] <= 1):\n",
    "            break\n",
    "\n",
    "    # update the post to add comments_count\n",
    "    posts_collection.update_one({'_id': post['_id']}, { \"$set\": {'comments_count': comments_count} })\n",
    "\n",
    "    time.sleep(1)\n"
   ]
  },
  {
   "cell_type": "markdown",
   "metadata": {},
   "source": [
    "## Monitoring Queries"
   ]
  },
  {
   "cell_type": "markdown",
   "metadata": {},
   "source": [
    "### check and get posts `comments_count` greater or equal than `1`, ordered by `date_gmt`"
   ]
  },
  {
   "cell_type": "code",
   "execution_count": 65,
   "metadata": {},
   "outputs": [
    {
     "name": "stdout",
     "output_type": "stream",
     "text": [
      "{'_id': '751393', 'date_gmt': '2022-06-06T09:30:15', 'comments_count': 1}\n",
      "{'_id': '750398', 'date_gmt': '2022-06-07T05:00:24', 'comments_count': 2}\n",
      "{'_id': '752167', 'date_gmt': '2022-06-08T10:41:24', 'comments_count': 1}\n",
      "{'_id': '301037', 'date_gmt': '2022-06-08T10:45:20', 'comments_count': 20}\n",
      "{'_id': '752636', 'date_gmt': '2022-06-10T10:36:11', 'comments_count': 1}\n",
      "{'_id': '752550', 'date_gmt': '2022-06-13T02:00:46', 'comments_count': 1}\n",
      "{'_id': '753293', 'date_gmt': '2022-06-15T09:30:45', 'comments_count': 1}\n",
      "{'_id': '753886', 'date_gmt': '2022-06-16T11:08:48', 'comments_count': 1}\n",
      "{'_id': '607177', 'date_gmt': '2022-06-17T02:00:00', 'comments_count': 7}\n",
      "{'_id': '754258', 'date_gmt': '2022-06-19T13:44:30', 'comments_count': 1}\n"
     ]
    }
   ],
   "source": [
    "posts = posts_collection.find({'comments_count': {\"$gte\": 1}}, {'_id': 1, 'comments_count': 1, 'date_gmt': 1}).sort([('date_gmt', asc)]).limit(10)\n",
    "\n",
    "for post in posts:\n",
    "    print(post)"
   ]
  },
  {
   "cell_type": "markdown",
   "metadata": {},
   "source": [
    "### check and get posts that has no comments"
   ]
  },
  {
   "cell_type": "code",
   "execution_count": 67,
   "metadata": {},
   "outputs": [
    {
     "name": "stdout",
     "output_type": "stream",
     "text": [
      "{'_id': '759649', 'comments_count': 0}\n",
      "{'_id': '759637', 'comments_count': 0}\n",
      "{'_id': '759348', 'comments_count': 0}\n",
      "{'_id': '759608', 'comments_count': 0}\n",
      "{'_id': '759595', 'comments_count': 0}\n",
      "{'_id': '759579', 'comments_count': 0}\n",
      "{'_id': '759572', 'comments_count': 0}\n",
      "{'_id': '759423', 'comments_count': 0}\n",
      "{'_id': '759552', 'comments_count': 0}\n",
      "{'_id': '759309', 'comments_count': 0}\n"
     ]
    }
   ],
   "source": [
    "posts = posts_collection.find({'comments_count': {\"$lt\": 1}}, {'_id': 1, 'comments_count': 1}, limit=10)\n",
    "\n",
    "for post in posts:\n",
    "    print(post)"
   ]
  },
  {
   "cell_type": "markdown",
   "metadata": {},
   "source": [
    "### aggregating comments collection by grouping `post` and count each comments"
   ]
  },
  {
   "cell_type": "code",
   "execution_count": 79,
   "metadata": {},
   "outputs": [
    {
     "name": "stdout",
     "output_type": "stream",
     "text": [
      "{'_id': '301037', 'comments_count': 14}\n",
      "{'_id': '638604', 'comments_count': 2}\n",
      "{'_id': '612934', 'comments_count': 2}\n",
      "{'_id': '607177', 'comments_count': 6}\n",
      "{'_id': '504440', 'comments_count': 9}\n",
      "{'_id': '487420', 'comments_count': 2}\n",
      "{'_id': '681468', 'comments_count': 4}\n"
     ]
    }
   ],
   "source": [
    "pipeline = [\n",
    "    {\n",
    "        \"$group\": {\"_id\": \"$post\", \"comments_count\": {\"$sum\": 1}}\n",
    "    }\n",
    "]\n",
    "\n",
    "comments = comments_collection.aggregate(pipeline)\n",
    "\n",
    "for comment in comments:\n",
    "    print(comment)"
   ]
  }
 ],
 "metadata": {
  "kernelspec": {
   "display_name": "Python 3.9.7 ('base')",
   "language": "python",
   "name": "python3"
  },
  "language_info": {
   "codemirror_mode": {
    "name": "ipython",
    "version": 3
   },
   "file_extension": ".py",
   "mimetype": "text/x-python",
   "name": "python",
   "nbconvert_exporter": "python",
   "pygments_lexer": "ipython3",
   "version": "3.9.7"
  },
  "orig_nbformat": 4,
  "vscode": {
   "interpreter": {
    "hash": "ad2bdc8ecc057115af97d19610ffacc2b4e99fae6737bb82f5d7fb13d2f2c186"
   }
  }
 },
 "nbformat": 4,
 "nbformat_minor": 2
}
